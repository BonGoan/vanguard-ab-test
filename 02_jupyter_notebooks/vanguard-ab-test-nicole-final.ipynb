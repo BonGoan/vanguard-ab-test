{
 "cells": [
  {
   "cell_type": "code",
   "execution_count": 2,
   "id": "a562fbfe-6b87-4d9a-b734-f02df3f3fbf5",
   "metadata": {},
   "outputs": [
    {
     "data": {
      "text/html": [
       "<div>\n",
       "<style scoped>\n",
       "    .dataframe tbody tr th:only-of-type {\n",
       "        vertical-align: middle;\n",
       "    }\n",
       "\n",
       "    .dataframe tbody tr th {\n",
       "        vertical-align: top;\n",
       "    }\n",
       "\n",
       "    .dataframe thead th {\n",
       "        text-align: right;\n",
       "    }\n",
       "</style>\n",
       "<table border=\"1\" class=\"dataframe\">\n",
       "  <thead>\n",
       "    <tr style=\"text-align: right;\">\n",
       "      <th></th>\n",
       "      <th>client_id</th>\n",
       "      <th>visitor_id</th>\n",
       "      <th>visit_id</th>\n",
       "      <th>process_step</th>\n",
       "      <th>date_time</th>\n",
       "    </tr>\n",
       "  </thead>\n",
       "  <tbody>\n",
       "    <tr>\n",
       "      <th>0</th>\n",
       "      <td>9988021</td>\n",
       "      <td>580560515_7732621733</td>\n",
       "      <td>781255054_21935453173_531117</td>\n",
       "      <td>step_3</td>\n",
       "      <td>2017-04-17 15:27:07</td>\n",
       "    </tr>\n",
       "    <tr>\n",
       "      <th>1</th>\n",
       "      <td>9988021</td>\n",
       "      <td>580560515_7732621733</td>\n",
       "      <td>781255054_21935453173_531117</td>\n",
       "      <td>step_2</td>\n",
       "      <td>2017-04-17 15:26:51</td>\n",
       "    </tr>\n",
       "    <tr>\n",
       "      <th>2</th>\n",
       "      <td>9988021</td>\n",
       "      <td>580560515_7732621733</td>\n",
       "      <td>781255054_21935453173_531117</td>\n",
       "      <td>step_3</td>\n",
       "      <td>2017-04-17 15:19:22</td>\n",
       "    </tr>\n",
       "    <tr>\n",
       "      <th>3</th>\n",
       "      <td>9988021</td>\n",
       "      <td>580560515_7732621733</td>\n",
       "      <td>781255054_21935453173_531117</td>\n",
       "      <td>step_2</td>\n",
       "      <td>2017-04-17 15:19:13</td>\n",
       "    </tr>\n",
       "    <tr>\n",
       "      <th>4</th>\n",
       "      <td>9988021</td>\n",
       "      <td>580560515_7732621733</td>\n",
       "      <td>781255054_21935453173_531117</td>\n",
       "      <td>step_3</td>\n",
       "      <td>2017-04-17 15:18:04</td>\n",
       "    </tr>\n",
       "    <tr>\n",
       "      <th>...</th>\n",
       "      <td>...</td>\n",
       "      <td>...</td>\n",
       "      <td>...</td>\n",
       "      <td>...</td>\n",
       "      <td>...</td>\n",
       "    </tr>\n",
       "    <tr>\n",
       "      <th>412259</th>\n",
       "      <td>9668240</td>\n",
       "      <td>388766751_9038881013</td>\n",
       "      <td>922267647_3096648104_968866</td>\n",
       "      <td>start</td>\n",
       "      <td>2017-05-24 18:46:10</td>\n",
       "    </tr>\n",
       "    <tr>\n",
       "      <th>412260</th>\n",
       "      <td>9668240</td>\n",
       "      <td>388766751_9038881013</td>\n",
       "      <td>922267647_3096648104_968866</td>\n",
       "      <td>start</td>\n",
       "      <td>2017-05-24 18:45:29</td>\n",
       "    </tr>\n",
       "    <tr>\n",
       "      <th>412261</th>\n",
       "      <td>9668240</td>\n",
       "      <td>388766751_9038881013</td>\n",
       "      <td>922267647_3096648104_968866</td>\n",
       "      <td>step_1</td>\n",
       "      <td>2017-05-24 18:44:51</td>\n",
       "    </tr>\n",
       "    <tr>\n",
       "      <th>412262</th>\n",
       "      <td>9668240</td>\n",
       "      <td>388766751_9038881013</td>\n",
       "      <td>922267647_3096648104_968866</td>\n",
       "      <td>start</td>\n",
       "      <td>2017-05-24 18:44:34</td>\n",
       "    </tr>\n",
       "    <tr>\n",
       "      <th>412263</th>\n",
       "      <td>674799</td>\n",
       "      <td>947159805_81558194550</td>\n",
       "      <td>86152093_47511127657_716022</td>\n",
       "      <td>start</td>\n",
       "      <td>2017-06-03 12:17:09</td>\n",
       "    </tr>\n",
       "  </tbody>\n",
       "</table>\n",
       "<p>755405 rows × 5 columns</p>\n",
       "</div>"
      ],
      "text/plain": [
       "        client_id             visitor_id                      visit_id  \\\n",
       "0         9988021   580560515_7732621733  781255054_21935453173_531117   \n",
       "1         9988021   580560515_7732621733  781255054_21935453173_531117   \n",
       "2         9988021   580560515_7732621733  781255054_21935453173_531117   \n",
       "3         9988021   580560515_7732621733  781255054_21935453173_531117   \n",
       "4         9988021   580560515_7732621733  781255054_21935453173_531117   \n",
       "...           ...                    ...                           ...   \n",
       "412259    9668240   388766751_9038881013   922267647_3096648104_968866   \n",
       "412260    9668240   388766751_9038881013   922267647_3096648104_968866   \n",
       "412261    9668240   388766751_9038881013   922267647_3096648104_968866   \n",
       "412262    9668240   388766751_9038881013   922267647_3096648104_968866   \n",
       "412263     674799  947159805_81558194550   86152093_47511127657_716022   \n",
       "\n",
       "       process_step            date_time  \n",
       "0            step_3  2017-04-17 15:27:07  \n",
       "1            step_2  2017-04-17 15:26:51  \n",
       "2            step_3  2017-04-17 15:19:22  \n",
       "3            step_2  2017-04-17 15:19:13  \n",
       "4            step_3  2017-04-17 15:18:04  \n",
       "...             ...                  ...  \n",
       "412259        start  2017-05-24 18:46:10  \n",
       "412260        start  2017-05-24 18:45:29  \n",
       "412261       step_1  2017-05-24 18:44:51  \n",
       "412262        start  2017-05-24 18:44:34  \n",
       "412263        start  2017-06-03 12:17:09  \n",
       "\n",
       "[755405 rows x 5 columns]"
      ]
     },
     "execution_count": 2,
     "metadata": {},
     "output_type": "execute_result"
    }
   ],
   "source": [
    "import pandas as pd\n",
    "import matplotlib.pyplot as plt\n",
    "import seaborn as sns\n",
    "import numpy as np\n",
    "import plotly.express as px\n",
    "\n",
    "\n",
    "%matplotlib inline\n",
    "\n",
    "df_final_demo = pd.read_csv(\"../01_data/df_final_demo.txt\")\n",
    "df_final_demo\n",
    "\n",
    "df_final_experiment_clients = pd.read_csv(\"../01_data/df_final_experiment_clients.txt\")\n",
    "df_final_experiment_clients\n",
    "\n",
    "df_final_web_data_pt_1 = pd.read_csv(\"../01_data/df_final_web_data_pt_1.txt\")\n",
    "df_final_web_data_pt_1\n",
    "\n",
    "df_final_web_data_pt_2 = pd.read_csv(\"../01_data/df_final_web_data_pt_2.txt\")\n",
    "df_final_web_data_pt_2\n",
    "\n",
    "df_final_web_data = pd.concat([df_final_web_data_pt_1,df_final_web_data_pt_2], axis= 0)\n",
    "df_final_web_data"
   ]
  },
  {
   "cell_type": "code",
   "execution_count": 3,
   "id": "caec2dd4-92a6-4841-876a-8db1ff97e42c",
   "metadata": {},
   "outputs": [
    {
     "data": {
      "text/html": [
       "<div>\n",
       "<style scoped>\n",
       "    .dataframe tbody tr th:only-of-type {\n",
       "        vertical-align: middle;\n",
       "    }\n",
       "\n",
       "    .dataframe tbody tr th {\n",
       "        vertical-align: top;\n",
       "    }\n",
       "\n",
       "    .dataframe thead th {\n",
       "        text-align: right;\n",
       "    }\n",
       "</style>\n",
       "<table border=\"1\" class=\"dataframe\">\n",
       "  <thead>\n",
       "    <tr style=\"text-align: right;\">\n",
       "      <th></th>\n",
       "      <th>client_id</th>\n",
       "      <th>clnt_tenure_yr</th>\n",
       "      <th>clnt_tenure_mnth</th>\n",
       "      <th>clnt_age</th>\n",
       "      <th>gendr</th>\n",
       "      <th>num_accts</th>\n",
       "      <th>bal</th>\n",
       "      <th>calls_6_mnth</th>\n",
       "      <th>logons_6_mnth</th>\n",
       "    </tr>\n",
       "  </thead>\n",
       "  <tbody>\n",
       "    <tr>\n",
       "      <th>0</th>\n",
       "      <td>836976</td>\n",
       "      <td>6.0</td>\n",
       "      <td>73.0</td>\n",
       "      <td>60.5</td>\n",
       "      <td>U</td>\n",
       "      <td>2.0</td>\n",
       "      <td>45105.30</td>\n",
       "      <td>6.0</td>\n",
       "      <td>9.0</td>\n",
       "    </tr>\n",
       "    <tr>\n",
       "      <th>1</th>\n",
       "      <td>2304905</td>\n",
       "      <td>7.0</td>\n",
       "      <td>94.0</td>\n",
       "      <td>58.0</td>\n",
       "      <td>U</td>\n",
       "      <td>2.0</td>\n",
       "      <td>110860.30</td>\n",
       "      <td>6.0</td>\n",
       "      <td>9.0</td>\n",
       "    </tr>\n",
       "    <tr>\n",
       "      <th>2</th>\n",
       "      <td>1439522</td>\n",
       "      <td>5.0</td>\n",
       "      <td>64.0</td>\n",
       "      <td>32.0</td>\n",
       "      <td>U</td>\n",
       "      <td>2.0</td>\n",
       "      <td>52467.79</td>\n",
       "      <td>6.0</td>\n",
       "      <td>9.0</td>\n",
       "    </tr>\n",
       "    <tr>\n",
       "      <th>3</th>\n",
       "      <td>1562045</td>\n",
       "      <td>16.0</td>\n",
       "      <td>198.0</td>\n",
       "      <td>49.0</td>\n",
       "      <td>M</td>\n",
       "      <td>2.0</td>\n",
       "      <td>67454.65</td>\n",
       "      <td>3.0</td>\n",
       "      <td>6.0</td>\n",
       "    </tr>\n",
       "    <tr>\n",
       "      <th>4</th>\n",
       "      <td>5126305</td>\n",
       "      <td>12.0</td>\n",
       "      <td>145.0</td>\n",
       "      <td>33.0</td>\n",
       "      <td>F</td>\n",
       "      <td>2.0</td>\n",
       "      <td>103671.75</td>\n",
       "      <td>0.0</td>\n",
       "      <td>3.0</td>\n",
       "    </tr>\n",
       "    <tr>\n",
       "      <th>5</th>\n",
       "      <td>3727881</td>\n",
       "      <td>5.0</td>\n",
       "      <td>71.0</td>\n",
       "      <td>30.5</td>\n",
       "      <td>U</td>\n",
       "      <td>2.0</td>\n",
       "      <td>23915.60</td>\n",
       "      <td>0.0</td>\n",
       "      <td>3.0</td>\n",
       "    </tr>\n",
       "    <tr>\n",
       "      <th>6</th>\n",
       "      <td>272934</td>\n",
       "      <td>5.0</td>\n",
       "      <td>66.0</td>\n",
       "      <td>58.5</td>\n",
       "      <td>U</td>\n",
       "      <td>2.0</td>\n",
       "      <td>27021.42</td>\n",
       "      <td>2.0</td>\n",
       "      <td>5.0</td>\n",
       "    </tr>\n",
       "    <tr>\n",
       "      <th>7</th>\n",
       "      <td>388801</td>\n",
       "      <td>30.0</td>\n",
       "      <td>361.0</td>\n",
       "      <td>57.5</td>\n",
       "      <td>M</td>\n",
       "      <td>5.0</td>\n",
       "      <td>522498.72</td>\n",
       "      <td>1.0</td>\n",
       "      <td>4.0</td>\n",
       "    </tr>\n",
       "    <tr>\n",
       "      <th>8</th>\n",
       "      <td>285619</td>\n",
       "      <td>30.0</td>\n",
       "      <td>369.0</td>\n",
       "      <td>67.5</td>\n",
       "      <td>M</td>\n",
       "      <td>2.0</td>\n",
       "      <td>299388.72</td>\n",
       "      <td>3.0</td>\n",
       "      <td>6.0</td>\n",
       "    </tr>\n",
       "    <tr>\n",
       "      <th>9</th>\n",
       "      <td>8198645</td>\n",
       "      <td>15.0</td>\n",
       "      <td>189.0</td>\n",
       "      <td>54.5</td>\n",
       "      <td>F</td>\n",
       "      <td>2.0</td>\n",
       "      <td>382303.83</td>\n",
       "      <td>6.0</td>\n",
       "      <td>9.0</td>\n",
       "    </tr>\n",
       "  </tbody>\n",
       "</table>\n",
       "</div>"
      ],
      "text/plain": [
       "   client_id  clnt_tenure_yr  clnt_tenure_mnth  clnt_age gendr  num_accts  \\\n",
       "0     836976             6.0              73.0      60.5     U        2.0   \n",
       "1    2304905             7.0              94.0      58.0     U        2.0   \n",
       "2    1439522             5.0              64.0      32.0     U        2.0   \n",
       "3    1562045            16.0             198.0      49.0     M        2.0   \n",
       "4    5126305            12.0             145.0      33.0     F        2.0   \n",
       "5    3727881             5.0              71.0      30.5     U        2.0   \n",
       "6     272934             5.0              66.0      58.5     U        2.0   \n",
       "7     388801            30.0             361.0      57.5     M        5.0   \n",
       "8     285619            30.0             369.0      67.5     M        2.0   \n",
       "9    8198645            15.0             189.0      54.5     F        2.0   \n",
       "\n",
       "         bal  calls_6_mnth  logons_6_mnth  \n",
       "0   45105.30           6.0            9.0  \n",
       "1  110860.30           6.0            9.0  \n",
       "2   52467.79           6.0            9.0  \n",
       "3   67454.65           3.0            6.0  \n",
       "4  103671.75           0.0            3.0  \n",
       "5   23915.60           0.0            3.0  \n",
       "6   27021.42           2.0            5.0  \n",
       "7  522498.72           1.0            4.0  \n",
       "8  299388.72           3.0            6.0  \n",
       "9  382303.83           6.0            9.0  "
      ]
     },
     "execution_count": 3,
     "metadata": {},
     "output_type": "execute_result"
    }
   ],
   "source": [
    "# This is the data set that contains the demograohic data of the clients.\n",
    "df_final_demo.head(10)"
   ]
  },
  {
   "cell_type": "code",
   "execution_count": null,
   "id": "d0bb086e-efa5-42d6-b86c-6052b600ba6d",
   "metadata": {},
   "outputs": [],
   "source": [
    "df_final_demo.isnull().sum()"
   ]
  },
  {
   "cell_type": "code",
   "execution_count": null,
   "id": "7e9a1171-631b-4713-a088-0aeafc9a510d",
   "metadata": {},
   "outputs": [],
   "source": [
    "# checking the two columns for nulls so that we can drop them\n",
    "df_final_demo[df_final_demo['clnt_age'].isnull() | df_final_demo['gendr'].isnull()] "
   ]
  },
  {
   "cell_type": "code",
   "execution_count": null,
   "id": "19eabcc2-8ccf-4e07-bb79-b8f6d6439229",
   "metadata": {},
   "outputs": [],
   "source": [
    "# drop the rows with all nulls\n",
    "df_final_demo = df_final_demo.dropna( subset = ['clnt_tenure_yr'])"
   ]
  },
  {
   "cell_type": "code",
   "execution_count": null,
   "id": "e9b03077-a157-4fb5-8a17-78b48f4ad0a7",
   "metadata": {},
   "outputs": [],
   "source": [
    "df_final_demo.isnull().sum()"
   ]
  },
  {
   "cell_type": "code",
   "execution_count": null,
   "id": "6081d469-e096-40a6-a866-ba3d4e9af076",
   "metadata": {},
   "outputs": [],
   "source": [
    "df_final_experiment_clients. head(10)"
   ]
  },
  {
   "cell_type": "code",
   "execution_count": null,
   "id": "43f5829b-9180-4247-9e01-6355c0071c0a",
   "metadata": {},
   "outputs": [],
   "source": [
    "df_final_web_data_pt_1.head(10)"
   ]
  },
  {
   "cell_type": "code",
   "execution_count": null,
   "id": "07d71e3e-e586-4b43-b23c-41f40ee7e208",
   "metadata": {},
   "outputs": [],
   "source": [
    "df_final_web_data_pt_2.head(10)"
   ]
  },
  {
   "cell_type": "code",
   "execution_count": null,
   "id": "0b1c6e8d-af2b-4878-be48-46cf39247c07",
   "metadata": {},
   "outputs": [],
   "source": [
    "df_final_experiment_clients.isnull().value_counts()\n",
    "\n",
    "#drop null values as this information is decisive for our KPIs\n",
    "df_final_experiment_clients = df_final_experiment_clients.dropna(subset=['Variation'])\n",
    "df_final_experiment_clients"
   ]
  },
  {
   "cell_type": "code",
   "execution_count": null,
   "id": "49f965c0-87a8-4a46-a326-25d927a60542",
   "metadata": {},
   "outputs": [],
   "source": [
    "#Merge the variation and experiment data sets\n",
    "\n",
    "df_final_web_data_client_id = pd.merge(df_final_experiment_clients,df_final_web_data, on = 'client_id', how = 'inner')\n",
    "df_final_web_data_client_id"
   ]
  },
  {
   "cell_type": "code",
   "execution_count": null,
   "id": "8f26842b-2769-464d-b487-afcf83edff89",
   "metadata": {},
   "outputs": [],
   "source": [
    "# final test group - for KPI\n",
    "\n",
    "df_final_test = df_final_web_data_client_id[df_final_web_data_client_id['Variation'] == 'Test']\n",
    "df_final_test"
   ]
  },
  {
   "cell_type": "code",
   "execution_count": null,
   "id": "c341d51d-5584-4669-82a9-8b7914c22451",
   "metadata": {},
   "outputs": [],
   "source": [
    "# final control group - for the KPI's\n",
    "\n",
    "df_final_control = df_final_web_data_client_id[df_final_web_data_client_id['Variation'] == 'Control']\n",
    "df_final_control"
   ]
  },
  {
   "cell_type": "code",
   "execution_count": null,
   "id": "242a068e-1e12-41fd-bbac-5af233fbec74",
   "metadata": {},
   "outputs": [],
   "source": [
    "df_final_demo.shape\n",
    "\n"
   ]
  },
  {
   "cell_type": "code",
   "execution_count": null,
   "id": "f62359c1-0ec1-439d-ab6c-7a2de06ab8c0",
   "metadata": {},
   "outputs": [],
   "source": [
    "#merge final demo that has the variations with final experiment clients datasets on client_id\n",
    "# MASTER DEMOGRAPHIC DATASET merged with the ids\n",
    "\n",
    "df_final_demo_client_id = pd.merge(df_final_experiment_clients,df_final_demo, on = 'client_id', how = 'inner')\n",
    "\n",
    "df_final_demo_client_id"
   ]
  },
  {
   "cell_type": "code",
   "execution_count": null,
   "id": "996733b7-0f92-4cd8-bfb1-e53ba19d54ed",
   "metadata": {},
   "outputs": [],
   "source": [
    "df_final_demo_client_id['gendr']=df_final_demo_client_id['gendr'].replace('X','U')\n",
    "df_final_demo_client_id['gendr'].value_counts(normalize=True)"
   ]
  },
  {
   "cell_type": "code",
   "execution_count": null,
   "id": "78bc3549-6094-4814-ade2-03ade436175c",
   "metadata": {},
   "outputs": [],
   "source": [
    "df_final_demo_client_id.describe()"
   ]
  },
  {
   "cell_type": "code",
   "execution_count": null,
   "id": "411bf36f-3faf-4fcb-a4a0-6839bcc4c132",
   "metadata": {},
   "outputs": [],
   "source": [
    "df_final_demo_control = df_final_demo_client_id[df_final_demo_client_id['Variation'] == 'Control']\n",
    "\n",
    "df_final_demo_control.describe()\n"
   ]
  },
  {
   "cell_type": "code",
   "execution_count": null,
   "id": "f2376144-7963-45df-b040-6ba5d8cb9b10",
   "metadata": {},
   "outputs": [],
   "source": [
    "df_final_demo_test = df_final_demo_client_id[df_final_demo_client_id['Variation'] == 'Test']\n",
    "\n",
    "df_final_demo_test.describe()"
   ]
  },
  {
   "cell_type": "code",
   "execution_count": null,
   "id": "dff4147b-b941-4a1e-ac5b-eb9df855beed",
   "metadata": {},
   "outputs": [],
   "source": [
    "#Clean gender column from demographics table\n",
    "\n",
    "df_final_demo_client_id['gendr']=df_final_demo_client_id['gendr'].replace('X','U')\n",
    "df_final_demo_client_id['gendr'].value_counts(normalize=True)"
   ]
  },
  {
   "cell_type": "code",
   "execution_count": null,
   "id": "4f64413c-ed82-4cf9-9bd6-8e000d98fa0c",
   "metadata": {},
   "outputs": [],
   "source": [
    "fig, axes = plt.subplots(1,2,figsize=(8,6))\n",
    "\n",
    "sizes_test = df_final_demo_test['gendr'].value_counts(normalize=True)\n",
    "labels_test = ['Male', 'Female', 'Unknown']  \n",
    "sizes_control = df_final_demo_control['gendr'].value_counts(normalize=True)\n",
    "labels_control = ['Male', 'Female', 'Unknown']  \n",
    "colors = ['#96151d','#FFCDD2','#FF6F61'] \n",
    "\n",
    "grey_colors = ['#929591', '#FF6F61', '#D50000']\n",
    "\n",
    "axes[0].pie(sizes_test, labels=labels_test, colors=grey_colors, autopct='%1.1f%%', startangle=140)\n",
    "axes[1].pie(sizes_control, labels=labels_control, colors=grey_colors, autopct='%1.1f%%', startangle=140)\n",
    "\n",
    "axes[0].set_title(\"Gender Distribution for Test Group\")\n",
    "axes[1].set_title(\"Gender Distribution for Control Group\")\n",
    "\n",
    "plt.savefig(\"Gender Distribution.png\", transparent=True, bbox_inches='tight')\n",
    "plt.show()\n",
    "\n",
    "#96151d (actual vanguard red), #FFCDD2(light red/pink), #D50000 (tomato red), #FF6F61 (light salmon) #929591 (light grey) #595252 (dark grey)"
   ]
  },
  {
   "cell_type": "code",
   "execution_count": null,
   "id": "0a01303b-374c-4c3a-b2b1-e414e9baf26c",
   "metadata": {},
   "outputs": [],
   "source": [
    "df_final_demo_client_id.info()"
   ]
  },
  {
   "cell_type": "code",
   "execution_count": null,
   "id": "2d5bafa3-1ed1-4781-b971-edc84f9a48c3",
   "metadata": {},
   "outputs": [],
   "source": [
    "df_final_demo_client_id.head()"
   ]
  },
  {
   "cell_type": "code",
   "execution_count": null,
   "id": "16277ee7-ec77-4779-9e62-80c6e7e098ff",
   "metadata": {},
   "outputs": [],
   "source": [
    "df_final_demo_client_id['clnt_age'].unique"
   ]
  },
  {
   "cell_type": "code",
   "execution_count": null,
   "id": "b628f00a-feb6-41be-b301-8360474c6ff7",
   "metadata": {},
   "outputs": [],
   "source": [
    "bins = [0, 20, 30, 40, 50, 60, 70, 80, 100]\n",
    "labels = ['under 20', '21-30', '31-40', '41-50', '51-60', '61-70', '71-80', '81-100']\n",
    "\n",
    "df_final_demo_client_id['age_group'] = pd.cut(df_final_demo_client_id['clnt_age'], bins=bins, labels=labels, include_lowest=True)\n",
    "\n",
    "df_final_demo_client_id.head()"
   ]
  },
  {
   "cell_type": "code",
   "execution_count": null,
   "id": "f27fac82-6a63-427c-8b2e-a6ff31603437",
   "metadata": {},
   "outputs": [],
   "source": [
    "\n",
    "age_group_counts = df_final_demo_client_id['age_group'].value_counts(normalize=True)\n",
    "age_group_counts\n"
   ]
  },
  {
   "cell_type": "code",
   "execution_count": null,
   "id": "7c3015d4-8dbb-4ff2-a5fa-941c452e9df6",
   "metadata": {},
   "outputs": [],
   "source": [
    "bins = [df_final_demo_client_id['clnt_age'].min(), 20, 30, 40, 50, 60, 70, 80 ,df_final_demo_client_id['clnt_age'].max()]\n",
    "labels = ['under 20', '21-30', '31-40', '41-50','51-60','61-70','71-80','81-100' ]\n",
    "df_final_demo_client_id['clnt_age_groups'] = pd.cut(df_final_demo_client_id['clnt_age'], bins=bins, labels=labels, include_lowest=True)\n",
    "\n",
    "crosstab_age_group = pd.crosstab(df_final_demo_client_id['clnt_age_groups'], df_final_demo_client_id['Variation'])\n",
    "crosstab_age_group\n",
    "\n",
    "crosstab_age_group.plot(kind=\"bar\",stacked=True, color=colors);"
   ]
  },
  {
   "cell_type": "code",
   "execution_count": null,
   "id": "ade18b89-a201-45a5-bbec-50a8c987399d",
   "metadata": {},
   "outputs": [],
   "source": [
    "df_final_demo_client_id.head()"
   ]
  },
  {
   "cell_type": "code",
   "execution_count": null,
   "id": "4c3f2f15-9285-4354-a5ea-8ced2f79e5ce",
   "metadata": {},
   "outputs": [],
   "source": [
    "df_final_demo_client_id ['num_accts'].unique()"
   ]
  },
  {
   "cell_type": "code",
   "execution_count": null,
   "id": "3ba2b870-4e41-4a11-8c40-bc2efb130e71",
   "metadata": {},
   "outputs": [],
   "source": [
    "#final one - no need for bins as there are no ranges\n",
    "\n",
    "crosstab_num_accts = pd.crosstab(df_final_demo_client_id['num_accts'], df_final_demo_client_id['Variation'])\n",
    "crosstab_num_accts\n",
    "\n",
    "crosstab_num_accts.plot(kind=\"bar\",stacked=True, color=colors);"
   ]
  },
  {
   "cell_type": "code",
   "execution_count": null,
   "id": "b6056f88-e316-4492-b083-fe183bba69e7",
   "metadata": {},
   "outputs": [],
   "source": [
    "df_final_demo_client_id ['bal'].unique()"
   ]
  },
  {
   "cell_type": "code",
   "execution_count": null,
   "id": "e4e3ef5a-2dd6-4731-ad03-0e7a54a9c0c1",
   "metadata": {},
   "outputs": [],
   "source": [
    "df_final_demo_client_id['bal'].describe()"
   ]
  },
  {
   "cell_type": "markdown",
   "id": "92269495-2751-42c0-b6d9-70ea6a562f25",
   "metadata": {},
   "source": [
    "----- Client Behaviour -----"
   ]
  },
  {
   "cell_type": "code",
   "execution_count": null,
   "id": "4892535a-4762-4bc2-94fb-4f623f215b1f",
   "metadata": {},
   "outputs": [],
   "source": [
    "bins = [0, 20000, 40000, 60000, 80000, 100000, 16320040] \n",
    "labels = ['0-20,000', '21,000-40,000', '41,000-60,000', '61,000-80,000', '81,000-100,000', 'above 100,000'] \n",
    "\n",
    "df_final_demo_client_id['bal_binned'] = pd.cut(df_final_demo_client_id['bal'], bins=bins, labels=labels)\n",
    "crosstab_bal = pd.crosstab(df_final_demo_client_id['bal_binned'], df_final_demo_client_id['Variation'])\n",
    "crosstab_bal\n",
    "\n",
    "crosstab_bal.plot(kind=\"bar\",stacked=True, color=colors);\n",
    "plt.title(\"Client's Balance by Experiment Groups\")\n",
    "plt.ylabel(\"Count\")\n",
    "plt.xlabel(\"Balance\")\n",
    "plt.xticks(rotation=45)\n",
    "plt.savefig(\"Client's Balance by Experiment Groups.png\", transparent=True, bbox_inches='tight')\n",
    "plt.show()\n",
    "\n"
   ]
  },
  {
   "cell_type": "code",
   "execution_count": null,
   "id": "4dc41df5-edf9-44e4-8daa-f034a5c69ed2",
   "metadata": {},
   "outputs": [],
   "source": [
    "df_final_test"
   ]
  },
  {
   "cell_type": "code",
   "execution_count": null,
   "id": "47041457-771a-4625-b995-6e30e14ed6a8",
   "metadata": {},
   "outputs": [],
   "source": [
    "# sorting the date and time column for test \n",
    "df_final_test['date_time'] = pd.to_datetime(df_final_test['date_time'])\n",
    "df_final_test['date'] = df_final_test['date_time'].dt.date\n",
    "df_final_test['time'] = df_final_test['date_time'].dt.time\n",
    "df_final_test = df_final_test.drop('date_time', axis=1)\n",
    "\n",
    "display (df_final_test)"
   ]
  },
  {
   "cell_type": "code",
   "execution_count": null,
   "id": "a08d6afd-daec-4adf-bc3a-f83819445460",
   "metadata": {},
   "outputs": [],
   "source": [
    "# sorting the date and time column for control\n",
    "\n",
    "df_final_control['date_time'] = pd.to_datetime(df_final_control['date_time'])\n",
    "df_final_control['date'] = df_final_control['date_time'].dt.date\n",
    "df_final_control['time'] = df_final_control['date_time'].dt.time\n",
    "df_final_control = df_final_control.drop('date_time', axis=1)\n",
    "\n",
    "display (df_final_control)"
   ]
  },
  {
   "cell_type": "code",
   "execution_count": null,
   "id": "ca9c4037-10e1-4b85-a897-1ac9373c50d4",
   "metadata": {},
   "outputs": [],
   "source": [
    "df_completed_test_users = df_final_test[df_final_test['process_step'] == 'confirm']\n",
    "df_completed_test_users.sort_valuesby=['visitor_id', 'date', 'time']\n",
    "df_completed_test_users"
   ]
  },
  {
   "cell_type": "code",
   "execution_count": null,
   "id": "9ba3e621-428f-4140-9a96-017544e07136",
   "metadata": {},
   "outputs": [],
   "source": [
    "#checking for number of duplicates within the confirm subset of the process_step\n",
    "duplicates = df_completed_test_users.duplicated(subset=['client_id', 'visitor_id', 'visit_id'])\n",
    "duplicate_count = duplicates.sum()\n",
    "duplicate_count"
   ]
  },
  {
   "cell_type": "code",
   "execution_count": null,
   "id": "9c9d5d20-f3de-4d0c-91ce-28d041fa79c0",
   "metadata": {},
   "outputs": [],
   "source": [
    "# analyzed only the first stamp of the vistor_id \n",
    "df_sorted = df_final_test.sort_values(by=['visitor_id', 'date', 'time'])\n",
    "df_first_time = df_sorted.drop_duplicates(subset=['time'], keep='first')\n",
    "\n",
    "completed_test = df_first_time[df_first_time['process_step'] == 'confirm']['visitor_id'].nunique()\n",
    "\n",
    "total_test = df_first_time['visitor_id'].nunique()\n",
    "\n",
    "completion_rate = (completed_test / total_test) * 100\n",
    "\n",
    "print(completion_rate)"
   ]
  },
  {
   "cell_type": "code",
   "execution_count": null,
   "id": "6e34f470-f54c-40c1-bafb-e820b636a0a5",
   "metadata": {},
   "outputs": [],
   "source": [
    "df_first_time['visitor_id'].nunique()"
   ]
  },
  {
   "cell_type": "markdown",
   "id": "0a351d05-f7d9-4434-9a67-61b9065bd2f9",
   "metadata": {},
   "source": [
    "----- COMPLETION RATE KPI -----"
   ]
  },
  {
   "cell_type": "code",
   "execution_count": null,
   "id": "435475b2-d9c8-4fa3-9050-702c1a460103",
   "metadata": {},
   "outputs": [],
   "source": [
    "# ​​Completion Rate: The proportion of users who reach the final ‘confirm’ step\n",
    "# A client is said to him completed the process if he reached the confirm step. \n",
    "# For the purrpose of analysis and to compare we took the first time stamp that the client reached the confirm step.\n",
    "# This rules out duplications for the same client_id\n",
    "\n",
    "# Steps:\n",
    "# 1) sort the values of the visitor_id, date, time column \n",
    "# 2) keep the first time stamp of confirm per visitor_id and drop the rest\n",
    "# 3) count the number of unique values = completed test count\n",
    "# 4) count the number of total visitor_id = total test count\n",
    "# 5) completion rate = completed test / total_test\n",
    "# 6) return completion_rate upto two decimals and with a percent sign %\n",
    "\n",
    "\n",
    "def calculate_completion_rate(df):\n",
    "    df_sorted = df.sort_values(by=['visitor_id', 'date', 'time'])\n",
    "    df_first_time = df_sorted.drop_duplicates(subset=['time'], keep='first')\n",
    "    completed_test = df_first_time[df_first_time['process_step'] == 'confirm']['visitor_id'].nunique()\n",
    "    total_test = df_first_time['visitor_id'].nunique()\n",
    "    completion_rate = (completed_test / total_test) * 100\n",
    "    return f\"{completion_rate:.2f}%\"\n"
   ]
  },
  {
   "cell_type": "code",
   "execution_count": null,
   "id": "d6012dd1-3e26-43b8-926b-83d905b01368",
   "metadata": {},
   "outputs": [],
   "source": [
    "completion_rate_test = calculate_completion_rate(df_final_test)\n",
    "completion_rate_control = calculate_completion_rate(df_final_control)\n",
    "\n",
    "print (completion_rate_test)\n",
    "print (completion_rate_control)"
   ]
  },
  {
   "cell_type": "code",
   "execution_count": null,
   "id": "c315ca86-346c-4997-bb7d-29837e49ecc2",
   "metadata": {},
   "outputs": [],
   "source": [
    "from statsmodels.stats.proportion import proportions_ztest\n",
    "\n",
    "#H0 = completion rate test group >= completion rate control group\n",
    "#H1 = completion rate test group < completion rate control group\n",
    "\n",
    "def calculate_completion_counts(df):\n",
    "    df_sorted = df.sort_values(by=['visitor_id', 'date', 'time'])\n",
    "    df_first_time = df_sorted.drop_duplicates(subset=['time'], keep='first')\n",
    "    completed = df_first_time[df_first_time['process_step'] == 'confirm']['visitor_id'].nunique()\n",
    "    total = df_first_time['visitor_id'].nunique()\n",
    "    return completed, total\n",
    "\n",
    "\n",
    "completed_test, total_test = calculate_completion_counts(df_final_test)\n",
    "completed_control, total_control = calculate_completion_counts(df_final_control)\n",
    "\n",
    "\n",
    "count = [completed_test, completed_control]\n",
    "nobs = [total_test, total_control]\n",
    "stat, p_value = proportions_ztest(count, nobs, alternative='smaller')  # One-tailed test\n",
    "\n",
    "print(f\"Z-statistic: {stat}, P-value: {p_value}\")\n",
    "\n",
    "# Print the test result based on the p-value\n",
    "if p_value < 0.05:\n",
    "    print('The null hypothesis is rejected. The completion rate in the test group is significantly lower than in the control group.')\n",
    "else:\n",
    "    print('We cannot confirm that the completion rate in the test group is lower than in the control group.')\n",
    "\n",
    "\n",
    "completion_rate_test = (completed_test / total_test) * 100\n",
    "completion_rate_control = (completed_control / total_control) * 100\n",
    "print(f\"Completion rate (Test group): {completion_rate_test:.2f}%\")\n",
    "print(f\"Completion rate (Control group): {completion_rate_control:.2f}%\")\n"
   ]
  },
  {
   "cell_type": "markdown",
   "id": "e9dde54a-525c-4dfa-b1dc-722aa601a491",
   "metadata": {},
   "source": [
    "Interpretation: Accept the null hypothesis. The test group’s completion rate is likely higher than or at least equivalent to that of the control group, based on these results."
   ]
  },
  {
   "cell_type": "markdown",
   "id": "0c1b806f-eb8b-4501-aad0-99ed109e039b",
   "metadata": {},
   "source": [
    "Part 2: Assessing the practical significance with 5% Threshold"
   ]
  },
  {
   "cell_type": "code",
   "execution_count": null,
   "id": "3dab0c36-cabc-4378-8a0b-a57a53c81d4d",
   "metadata": {},
   "outputs": [],
   "source": [
    "#H0 = The increase in the Test group’s completion rate is less than 5%\n",
    "#H1 = The increase in the Test group’s completion rate is greater than or equal to 5%.\n",
    "\n",
    "from statsmodels.stats.proportion import proportions_ztest\n",
    "\n",
    "# Calculate completion counts and total visits for both groups\n",
    "completed_test, total_test = calculate_completion_counts(df_final_test)\n",
    "completed_control, total_control = calculate_completion_counts(df_final_control)\n",
    "\n",
    "# Observed completion rates\n",
    "completion_rate_test = completed_test / total_test\n",
    "completion_rate_control = completed_control / total_control\n",
    "\n",
    "# Z-test for difference in completion rates (Test group vs Control group)\n",
    "count = [completed_test, completed_control]\n",
    "nobs = [total_test, total_control]\n",
    "stat, p_value = proportions_ztest(count, nobs, alternative='larger')  # One-tailed test\n",
    "\n",
    "print(f\"Z-statistic: {stat}, P-value: {p_value}\")\n",
    "print(f\"Completion rate (Test group): {completion_rate_test:.4f}\")\n",
    "print(f\"Completion rate (Control group): {completion_rate_control:.4f}\")\n",
    "\n",
    "# Print the result of the hypothesis test\n",
    "if p_value < 0.05:\n",
    "    print('The null hypothesis is rejected. The completion rate in the Test group is significantly higher than in the Control group.')\n",
    "else:\n",
    "    print('We do not have sufficient evidence to reject the null hypothesis.')\n",
    "\n",
    "# Part 2: Assess if the increase meets or exceeds the 5% threshold\n",
    "\n",
    "# Minimum increase to justify the cost\n",
    "threshold_increase = 0.05\n",
    "\n",
    "# Observed difference in completion rates\n",
    "observed_difference = completion_rate_test - completion_rate_control\n",
    "\n",
    "# Check if the observed increase meets or exceeds the 5% threshold\n",
    "if observed_difference >= threshold_increase:\n",
    "    print(f\"The observed increase of {observed_difference:.4f} meets or exceeds the 5% threshold. The new design is cost-effective.\")\n",
    "else:\n",
    "    print(f\"The observed increase of {observed_difference:.4f} does not meet the 5% threshold. The new design may not be cost-effective.\")\n"
   ]
  },
  {
   "cell_type": "markdown",
   "id": "56d294d0-d278-4ae1-94ea-6774944323bf",
   "metadata": {},
   "source": [
    "Interpretation of Results:\n",
    "\n",
    "Statistical Significance: Z-statistic: 5.86 and P-value: 2.29e-09: The Z-statistic is very high, and the P-value is extremely small, much lower than the typical 0.05 significance level. Conclusion: We reject the null hypothesis. The completion rate in the Test group (new design) is significantly higher than in the Control group (old design). Completion Rate (Test group): 36.89% vs. Completion Rate (Control group): 34.06%: The Test group has a higher completion rate, and the difference of 2.83% is statistically significant.\n",
    "\n",
    "Practical Significance (5% Threshold): Observed Increase: 2.83%: Vanguard's threshold for cost-effectiveness is a minimum 5% increase in completion rate. The observed increase of 2.83% is below the 5% threshold. Conclusion: Despite the statistically significant improvement in completion rate, the new design does not meet the 5% threshold required to justify the associated costs of the redesign (development, design, and potential user disruption). Business Implications: Statistically Significant, But Not Cost-Effective:\n",
    "\n",
    "The new design performs better than the old one, but not by a margin that justifies the cost of implementation. The observed increase of 2.83% is below the 5% minimum set by Vanguard for a cost-effective upgrade."
   ]
  },
  {
   "cell_type": "markdown",
   "id": "2938431b-146f-496b-949f-76ad0ce778d1",
   "metadata": {},
   "source": [
    "------ AVERAGE COMPLETION TIME KPI --------"
   ]
  },
  {
   "cell_type": "code",
   "execution_count": null,
   "id": "ca55bb0c-8e7f-4cb6-b5c2-e4012d5c85d4",
   "metadata": {},
   "outputs": [],
   "source": [
    "#change the dataype to string so that we can concat them into one column\n",
    "def datetime_merged(df):\n",
    "    df['date'] = df['date'].astype(str)\n",
    "    df['time'] = df['time'].astype(str)\n",
    "    df['datetime'] = pd.to_datetime(df['date'] + ' ' + df['time'])\n",
    "    return df"
   ]
  },
  {
   "cell_type": "code",
   "execution_count": null,
   "id": "1f23dfbf-6c82-4efe-afe3-3f5e3b233283",
   "metadata": {},
   "outputs": [],
   "source": [
    "datetime_merged(df_final_test)\n",
    "datetime_merged(df_final_control)"
   ]
  },
  {
   "cell_type": "code",
   "execution_count": null,
   "id": "46fba89b-8576-40d6-88d2-b138f3c09e68",
   "metadata": {},
   "outputs": [],
   "source": [
    "# Function to calculate outliers, remove them, and convert duration to minutes\n",
    "def remove_outliers_and_convert(df):\n",
    "    df = df.sort_values(by=['visit_id', 'datetime'])\n",
    "    df['duration'] = df.groupby(['visit_id'])['datetime'].diff(-1).dt.total_seconds()\n",
    "    df['duration'] = df['duration'].abs() / 60\n",
    "    Q1 = df.groupby('process_step')['duration'].quantile(0.25)\n",
    "    Q3 = df.groupby('process_step')['duration'].quantile(0.75)\n",
    "    IQR = Q3 - Q1\n",
    "    lower_bound = Q1 - 1.5 * IQR\n",
    "    upper_bound = Q3 + 1.5 * IQR\n",
    "    bounds = pd.DataFrame({'lower_bound': lower_bound,'upper_bound': upper_bound})\n",
    "    df_with_bounds = df.merge(bounds, on='process_step')\n",
    "    df_filtered = df_with_bounds[(df_with_bounds['duration'] >= df_with_bounds['lower_bound']) &\n",
    "                                 (df_with_bounds['duration'] <= df_with_bounds['upper_bound'])]\n",
    "    \n",
    "    return df_filtered\n",
    "\n",
    "custom_palette = {'Control': '#96151d', 'Test': '#FFCDD2'}\n",
    "                  \n",
    "\n",
    "df_final_control['group'] = 'Control'\n",
    "df_final_test['group'] = 'Test'\n",
    "\n",
    "df_combined = pd.concat([df_final_test, df_final_control])\n",
    "\n",
    "# Remove outliers and convert duration to minutes\n",
    "df_filtered = remove_outliers_and_convert(df_combined)\n",
    "\n",
    "# Create the box plot without outliers using the custom palette\n",
    "plt.figure(figsize=(12, 8))\n",
    "sns.boxplot(x='process_step', y='duration', hue='group', data=df_filtered, palette=custom_palette)\n",
    "plt.title('Average Time Spent on Each Step by Experiment Groups (Outliers Removed)')\n",
    "plt.xlabel('Process Step')\n",
    "plt.ylabel('Duration (minutes)')\n",
    "plt.xticks(rotation=45)\n",
    "plt.legend(title='Variation')\n",
    "plt.savefig(\"Average Time Spent on Each Step by Experiment Groups.png\", transparent=True, bbox_inches='tight')\n",
    "plt.show()\n"
   ]
  },
  {
   "cell_type": "code",
   "execution_count": 7,
   "id": "13c631e5-b75e-4b48-9e9d-5e643642f033",
   "metadata": {},
   "outputs": [
    {
     "name": "stdout",
     "output_type": "stream",
     "text": [
      "T-statistic: 0.7230554429931415\n",
      "P-value: 0.24636052487913662\n",
      "average_durations_test_group > average_durations_control_group\n"
     ]
    }
   ],
   "source": [
    "#Hypothesis Testing\n",
    "#GOAL: to assess the efficiency of a process and determine if changes reduce time spent per step.\n",
    "#H0: average_durations_test_group <= average_durations_control_group\n",
    "#H1: average_durations_test_group > average_durations_control_group \n",
    "#(suggesting that the test group takes significantly less time to complete each step compared to the control group)\n",
    "    #one-sided so one-tailed t-test \n",
    "#alpha = 0.05\n",
    "\n",
    "#two independent groups, two sample t-test, one-tailed t-test\n",
    "import scipy.stats as st\n",
    "\n",
    "average_durations_test_group = [2.054426, 0.881014, 1.054969, 1.604868, 1.663180]  \n",
    "average_durations_control_group = [1.262612, 1.032584, 0.852407, 1.650102, 1.520628]  \n",
    "\n",
    "t_stat,p_value = st.ttest_ind(average_durations_test_group,average_durations_control_group, equal_var=False, alternative=\"greater\")\n",
    "\n",
    "alpha = 0.05\n",
    "\n",
    "print(f\"T-statistic: {t_stat}\")\n",
    "print(f\"P-value: {p_value}\")\n",
    "\n",
    "if p_value < alpha:\n",
    "    print(\"Reject the null hypothesis: average_durations_test_group <= average_durations_control_group \")\n",
    "else:\n",
    "    print(\"average_durations_test_group > average_durations_control_group\")\n",
    "\n",
    "# When H0 = True, you have a 25%  chance to find a sample like the one you have found.\n",
    "# p_value = P(sample | H0 = True)\n"
   ]
  },
  {
   "cell_type": "markdown",
   "id": "7f9da5b2-c492-4d34-b7a3-d5d640027bb2",
   "metadata": {},
   "source": [
    " ----- EXTRA -----"
   ]
  },
  {
   "cell_type": "code",
   "execution_count": null,
   "id": "680bd695-fcb9-4890-95bb-0871c1efd43e",
   "metadata": {},
   "outputs": [],
   "source": [
    "# Average time spent on each step \n",
    "\n",
    "def average_time_spent_on_each_step(df):\n",
    "    df['date'] = df['date'].astype(str)\n",
    "    df['time'] = df['time'].astype(str)\n",
    "    df['datetime'] = pd.to_datetime(df['date'] + ' ' + df['time'])\n",
    "    df = df.sort_values(by=['visit_id', 'datetime'])\n",
    "    df['duration'] = df.groupby(['visit_id'])['datetime'].diff(-1).dt.total_seconds()\n",
    "    df['duration'] = df['duration'].abs()\n",
    "    average_step_durations = df.groupby('process_step')['duration'].mean()\n",
    "    average_step_durations_minutes = average_step_durations / 60\n",
    "    return average_step_durations_minutes"
   ]
  },
  {
   "cell_type": "code",
   "execution_count": null,
   "id": "e6cde53f-68ec-45f9-b4cd-46f315534363",
   "metadata": {},
   "outputs": [],
   "source": [
    "average_durations_test_group = average_time_spent_on_each_step(df_final_test)\n",
    "average_durations_control_group = average_time_spent_on_each_step(df_final_control)\n",
    "\n",
    "print(average_durations_test_group )\n",
    "print(average_durations_control_group )"
   ]
  },
  {
   "cell_type": "code",
   "execution_count": null,
   "id": "bfec77d9-9a98-4c85-af0d-39a21a3b2758",
   "metadata": {},
   "outputs": [],
   "source": [
    "visit_id_to_check = df_final_test[df_final_test['visit_id'] == '999988789_76411676596_272843']\n",
    "visit_id_to_check"
   ]
  }
 ],
 "metadata": {
  "kernelspec": {
   "display_name": "Python 3 (ipykernel)",
   "language": "python",
   "name": "python3"
  },
  "language_info": {
   "codemirror_mode": {
    "name": "ipython",
    "version": 3
   },
   "file_extension": ".py",
   "mimetype": "text/x-python",
   "name": "python",
   "nbconvert_exporter": "python",
   "pygments_lexer": "ipython3",
   "version": "3.12.4"
  }
 },
 "nbformat": 4,
 "nbformat_minor": 5
}
